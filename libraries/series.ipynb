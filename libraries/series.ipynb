{
 "cells": [
  {
   "cell_type": "code",
   "execution_count": 1,
   "id": "1a709875-c265-44ed-af6b-32eca50f971e",
   "metadata": {},
   "outputs": [],
   "source": [
    "import numpy as np\n",
    "import pandas as pd"
   ]
  },
  {
   "cell_type": "code",
   "execution_count": 2,
   "id": "dbde699d-2a77-437e-b94b-ccf9a6069dee",
   "metadata": {},
   "outputs": [],
   "source": [
    "mydata=[234,235,236]"
   ]
  },
  {
   "cell_type": "code",
   "execution_count": 3,
   "id": "fecc5062-fd00-4337-ab07-810578c63655",
   "metadata": {},
   "outputs": [],
   "source": [
    "myindex=['usa','canada','france']"
   ]
  },
  {
   "cell_type": "code",
   "execution_count": 4,
   "id": "76564d83-8215-49e4-83ea-75d09d358bd2",
   "metadata": {},
   "outputs": [],
   "source": [
    "myseri=pd.Series(data=mydata)"
   ]
  },
  {
   "cell_type": "code",
   "execution_count": 5,
   "id": "154c24a1-94af-4275-a491-dc97caf47980",
   "metadata": {},
   "outputs": [
    {
     "data": {
      "text/plain": [
       "0    234\n",
       "1    235\n",
       "2    236\n",
       "dtype: int64"
      ]
     },
     "execution_count": 5,
     "metadata": {},
     "output_type": "execute_result"
    }
   ],
   "source": [
    "myseri"
   ]
  },
  {
   "cell_type": "code",
   "execution_count": 6,
   "id": "908985e6-8016-458e-b995-7e96558e5dc5",
   "metadata": {},
   "outputs": [
    {
     "data": {
      "text/plain": [
       "0       usa\n",
       "1    canada\n",
       "2    france\n",
       "dtype: object"
      ]
     },
     "execution_count": 6,
     "metadata": {},
     "output_type": "execute_result"
    }
   ],
   "source": [
    "myseriindex=pd.Series(data=myindex)\n",
    "myseriindex"
   ]
  },
  {
   "cell_type": "code",
   "execution_count": 7,
   "id": "33714f55-3d0b-43a1-bbb6-b4c0ee939997",
   "metadata": {},
   "outputs": [
    {
     "data": {
      "text/plain": [
       "usa       234\n",
       "canada    235\n",
       "france    236\n",
       "dtype: int64"
      ]
     },
     "execution_count": 7,
     "metadata": {},
     "output_type": "execute_result"
    }
   ],
   "source": [
    "myseri=pd.Series(data=mydata,index=myindex)\n",
    "myseri"
   ]
  },
  {
   "cell_type": "code",
   "execution_count": 8,
   "id": "3d96e2f4-0614-4aa9-82ce-7eeb7f2aab74",
   "metadata": {},
   "outputs": [
    {
     "data": {
      "text/plain": [
       "{'prasath': 21, 'arun': 23}"
      ]
     },
     "execution_count": 8,
     "metadata": {},
     "output_type": "execute_result"
    }
   ],
   "source": [
    "ages={'prasath':21,'arun':23}\n",
    "ages"
   ]
  },
  {
   "cell_type": "code",
   "execution_count": 9,
   "id": "949e2e34-3168-44c9-ae51-7ffe14f25766",
   "metadata": {},
   "outputs": [
    {
     "data": {
      "text/plain": [
       "prasath    21\n",
       "arun       23\n",
       "dtype: int64"
      ]
     },
     "execution_count": 9,
     "metadata": {},
     "output_type": "execute_result"
    }
   ],
   "source": [
    "pd.Series(ages)"
   ]
  },
  {
   "cell_type": "code",
   "execution_count": 10,
   "id": "8290c0fc-c00e-4551-a54e-c5446bc5635e",
   "metadata": {},
   "outputs": [
    {
     "data": {
      "text/plain": [
       "usa       234\n",
       "canada    235\n",
       "france    236\n",
       "dtype: int64"
      ]
     },
     "execution_count": 10,
     "metadata": {},
     "output_type": "execute_result"
    }
   ],
   "source": [
    "myseri=pd.Series(index=myindex,data=mydata)\n",
    "myseri"
   ]
  },
  {
   "cell_type": "code",
   "execution_count": 12,
   "id": "471bfb22-d92a-45cf-9e0a-5f9e1e3935bb",
   "metadata": {},
   "outputs": [
    {
     "data": {
      "text/html": [
       "<div>\n",
       "<style scoped>\n",
       "    .dataframe tbody tr th:only-of-type {\n",
       "        vertical-align: middle;\n",
       "    }\n",
       "\n",
       "    .dataframe tbody tr th {\n",
       "        vertical-align: top;\n",
       "    }\n",
       "\n",
       "    .dataframe thead th {\n",
       "        text-align: right;\n",
       "    }\n",
       "</style>\n",
       "<table border=\"1\" class=\"dataframe\">\n",
       "  <thead>\n",
       "    <tr style=\"text-align: right;\">\n",
       "      <th></th>\n",
       "      <th>Column1</th>\n",
       "      <th>Column2</th>\n",
       "      <th>Column3</th>\n",
       "    </tr>\n",
       "  </thead>\n",
       "  <tbody>\n",
       "    <tr>\n",
       "      <th>0</th>\n",
       "      <td>60</td>\n",
       "      <td>92</td>\n",
       "      <td>0</td>\n",
       "    </tr>\n",
       "    <tr>\n",
       "      <th>1</th>\n",
       "      <td>40</td>\n",
       "      <td>46</td>\n",
       "      <td>63</td>\n",
       "    </tr>\n",
       "    <tr>\n",
       "      <th>2</th>\n",
       "      <td>60</td>\n",
       "      <td>34</td>\n",
       "      <td>67</td>\n",
       "    </tr>\n",
       "    <tr>\n",
       "      <th>3</th>\n",
       "      <td>5</td>\n",
       "      <td>55</td>\n",
       "      <td>87</td>\n",
       "    </tr>\n",
       "  </tbody>\n",
       "</table>\n",
       "</div>"
      ],
      "text/plain": [
       "   Column1  Column2  Column3\n",
       "0       60       92        0\n",
       "1       40       46       63\n",
       "2       60       34       67\n",
       "3        5       55       87"
      ]
     },
     "execution_count": 12,
     "metadata": {},
     "output_type": "execute_result"
    }
   ],
   "source": [
    "df=pd.DataFrame(np.random.randint(0,100,size=(4,3)),columns=['Column1','Column2','Column3'])\n",
    "df"
   ]
  },
  {
   "cell_type": "code",
   "execution_count": 14,
   "id": "1b9ad77c-7d30-40b9-bfbc-2a3c9da3b6c6",
   "metadata": {},
   "outputs": [
    {
     "data": {
      "text/plain": [
       "array([[7, 8, 9],\n",
       "       [4, 5, 6],\n",
       "       [1, 2, 3]])"
      ]
     },
     "execution_count": 14,
     "metadata": {},
     "output_type": "execute_result"
    }
   ],
   "source": [
    "arr=np.array([[1,2,3],[4,5,6],[7,8,9]])\n",
    "arr[::-1]"
   ]
  },
  {
   "cell_type": "code",
   "execution_count": 15,
   "id": "40b4da34-f491-4d45-b34e-1bd7e276d135",
   "metadata": {},
   "outputs": [
    {
     "data": {
      "text/plain": [
       "array([1, 2, 3])"
      ]
     },
     "execution_count": 15,
     "metadata": {},
     "output_type": "execute_result"
    }
   ],
   "source": [
    "ar=np.array([1,2,3])\n",
    "ar"
   ]
  },
  {
   "cell_type": "code",
   "execution_count": 20,
   "id": "0bd43b3c-83e7-4357-94bc-0d8f71ff2bfd",
   "metadata": {},
   "outputs": [
    {
     "data": {
      "text/plain": [
       "0    False\n",
       "1    False\n",
       "2    False\n",
       "3     True\n",
       "Name: Values, dtype: bool"
      ]
     },
     "execution_count": 20,
     "metadata": {},
     "output_type": "execute_result"
    }
   ],
   "source": [
    "df=pd.DataFrame({'Values':[1,2,3,4]})\n",
    "df['Values']>3"
   ]
  },
  {
   "cell_type": "code",
   "execution_count": 21,
   "id": "ee7bd5f2-2298-4ef1-abc2-1266e4db57ee",
   "metadata": {},
   "outputs": [],
   "source": [
    "arr=np.array([[1,2,3],[4,5,6]])\n",
    "arr[:,[0,1]]=arr[:,[1,0]]"
   ]
  },
  {
   "cell_type": "code",
   "execution_count": 22,
   "id": "a8448745-16bd-4008-af57-650dd806e5b5",
   "metadata": {},
   "outputs": [
    {
     "data": {
      "text/plain": [
       "array([[2, 1, 3],\n",
       "       [5, 4, 6]])"
      ]
     },
     "execution_count": 22,
     "metadata": {},
     "output_type": "execute_result"
    }
   ],
   "source": [
    "arr"
   ]
  },
  {
   "cell_type": "code",
   "execution_count": 23,
   "id": "0ebbb8bb-d129-42cd-8389-abf403ea5e20",
   "metadata": {},
   "outputs": [],
   "source": [
    "arr=np.array([[1,2,3],[4,5,6]])\n",
    "arr[[0,1]]=arr[[1,0]]"
   ]
  },
  {
   "cell_type": "code",
   "execution_count": 24,
   "id": "93bcbadb-d48b-41bd-82c8-31f8aa063d22",
   "metadata": {},
   "outputs": [
    {
     "data": {
      "text/plain": [
       "array([[4, 5, 6],\n",
       "       [1, 2, 3]])"
      ]
     },
     "execution_count": 24,
     "metadata": {},
     "output_type": "execute_result"
    }
   ],
   "source": [
    "arr\n"
   ]
  },
  {
   "cell_type": "code",
   "execution_count": 26,
   "id": "0b21402a-a20c-4a1e-8569-a1c49b087592",
   "metadata": {},
   "outputs": [
    {
     "data": {
      "text/plain": [
       "array([[1, 2, 3],\n",
       "       [4, 5, 6],\n",
       "       [7, 8, 9]])"
      ]
     },
     "execution_count": 26,
     "metadata": {},
     "output_type": "execute_result"
    }
   ],
   "source": [
    "matrix=np.array([[1,2,3],[4,5,6],[7,8,9]])\n",
    "matrix"
   ]
  },
  {
   "cell_type": "code",
   "execution_count": 28,
   "id": "daccfbad-c4f2-4340-98d1-880b3726d5ed",
   "metadata": {},
   "outputs": [
    {
     "data": {
      "text/plain": [
       "array([1., 2., 3., 4., 6.])"
      ]
     },
     "execution_count": 28,
     "metadata": {},
     "output_type": "execute_result"
    }
   ],
   "source": [
    "arr=np.array([1,2,3,4,6])\n",
    "tot=arr.astype(float)\n",
    "tot"
   ]
  },
  {
   "cell_type": "code",
   "execution_count": 29,
   "id": "b44b40c6-e4ff-4bc2-b9c5-b5cf92e2d5bb",
   "metadata": {},
   "outputs": [
    {
     "data": {
      "text/plain": [
       "array([1, 2, 3, 4, 5, 6, 7])"
      ]
     },
     "execution_count": 29,
     "metadata": {},
     "output_type": "execute_result"
    }
   ],
   "source": [
    "arr=np.array([1,2,2,3,4,5,6,6,7])\n",
    "np.unique(arr)"
   ]
  },
  {
   "cell_type": "code",
   "execution_count": 30,
   "id": "2b3a674c-bc4a-45f8-8c64-400fad94059e",
   "metadata": {},
   "outputs": [
    {
     "data": {
      "text/plain": [
       "array([False,  True,  True, False])"
      ]
     },
     "execution_count": 30,
     "metadata": {},
     "output_type": "execute_result"
    }
   ],
   "source": [
    "a1=np.array([1,2,3,6])\n",
    "a2=np.array([2,2,3,5])\n",
    "total=a1==a2\n",
    "total"
   ]
  },
  {
   "cell_type": "code",
   "execution_count": null,
   "id": "19105f03-5ac8-4839-8642-3d7dadff5802",
   "metadata": {},
   "outputs": [],
   "source": []
  }
 ],
 "metadata": {
  "kernelspec": {
   "display_name": "Python 3 (ipykernel)",
   "language": "python",
   "name": "python3"
  },
  "language_info": {
   "codemirror_mode": {
    "name": "ipython",
    "version": 3
   },
   "file_extension": ".py",
   "mimetype": "text/x-python",
   "name": "python",
   "nbconvert_exporter": "python",
   "pygments_lexer": "ipython3",
   "version": "3.9.10"
  }
 },
 "nbformat": 4,
 "nbformat_minor": 5
}
